{
 "cells": [
  {
   "cell_type": "code",
   "execution_count": 5,
   "metadata": {},
   "outputs": [
    {
     "name": "stdout",
     "output_type": "stream",
     "text": [
      "Defaulting to user installation because normal site-packages is not writeable\n",
      "Collecting comtradeapicall\n",
      "  Downloading comtradeapicall-1.2.1-py3-none-any.whl.metadata (19 kB)\n",
      "Downloading comtradeapicall-1.2.1-py3-none-any.whl (19 kB)\n",
      "Installing collected packages: comtradeapicall\n",
      "Successfully installed comtradeapicall-1.2.1\n",
      "\n",
      "\u001b[1m[\u001b[0m\u001b[34;49mnotice\u001b[0m\u001b[1;39;49m]\u001b[0m\u001b[39;49m A new release of pip is available: \u001b[0m\u001b[31;49m24.0\u001b[0m\u001b[39;49m -> \u001b[0m\u001b[32;49m25.0\u001b[0m\n",
      "\u001b[1m[\u001b[0m\u001b[34;49mnotice\u001b[0m\u001b[1;39;49m]\u001b[0m\u001b[39;49m To update, run: \u001b[0m\u001b[32;49mpip install --upgrade pip\u001b[0m\n"
     ]
    }
   ],
   "source": [
    "import sys\n",
    "!{sys.executable} -m pip install --upgrade comtradeapicall"
   ]
  },
  {
   "cell_type": "code",
   "execution_count": 6,
   "metadata": {},
   "outputs": [],
   "source": [
    "import requests\n",
    "import json\n",
    "import time\n",
    "from tqdm import tqdm \n",
    "import comtradeapicall"
   ]
  },
  {
   "cell_type": "code",
   "execution_count": null,
   "metadata": {},
   "outputs": [],
   "source": [
    "subscription_key = '<YOUR KEY>' # comtrade api subscription key (from comtradedeveloper.un.org)\n",
    "directory = 'trade'  # output directory for downloaded files \n",
    "proxy_url = '<PROXY URL>' "
   ]
  },
  {
   "cell_type": "code",
   "execution_count": 7,
   "metadata": {},
   "outputs": [
    {
     "name": "stdout",
     "output_type": "stream",
     "text": [
      "All calls are rejected by policy.\n"
     ]
    }
   ],
   "source": [
    "mydf = comtradeapicall.previewFinalData(typeCode='C', freqCode='M', clCode='HS', period='202205',\n",
    "                                        reporterCode='36', cmdCode='91', flowCode='M', partnerCode=None,\n",
    "                                        partner2Code=None,\n",
    "                                        customsCode=None, motCode=None, maxRecords=500, format_output='JSON',\n",
    "                                        aggregateBy=None, breakdownMode='classic', countOnly=None, includeDesc=True)\n"
   ]
  },
  {
   "cell_type": "markdown",
   "metadata": {},
   "source": [
    "https://comtradeapi.un.org/public/v1/preview/C/all/all/2015,2016,2017,2018,2019,2020,2021,2022,2023,2024/1,2/HS/all?format=json\n"
   ]
  },
  {
   "cell_type": "code",
   "execution_count": 2,
   "metadata": {},
   "outputs": [],
   "source": [
    "# Function to fetch data for a given year\n",
    "def fetch_comtrade_data(year):\n",
    "    base_url = \"https://comtradeapi.un.org/public/v1/preview\"\n",
    "    params = {\n",
    "        \"type\": \"C\",  # Commodity data\n",
    "        \"reporter\": \"all\",  # All reporting countries\n",
    "        \"partner\": \"all\",  # All partners\n",
    "        \"year\": year,  # Year for the data\n",
    "        \"flow\": \"1,2\",  # Import (1) and Export (2)\n",
    "        \"classification\": \"HS\",  # Harmonized System classification\n",
    "        \"commodities\": \"all\",  # All commodities\n",
    "        \"format\": \"json\"  # Response format\n",
    "    }\n",
    "\n",
    "    # Construct the URL dynamically\n",
    "    url = f\"{base_url}/{params['type']}/{params['reporter']}/{params['partner']}/{params['year']}/{params['flow']}/{params['classification']}/{params['commodities']}?format={params['format']}\"\n",
    "    \n",
    "    response = requests.get(url)\n",
    "    \n",
    "    if response.status_code == 200:\n",
    "        return response.json()\n",
    "    else:\n",
    "        print(f\"Failed to fetch data for {year}: {response.status_code}\")\n",
    "        return None\n"
   ]
  },
  {
   "cell_type": "code",
   "execution_count": 3,
   "metadata": {},
   "outputs": [
    {
     "name": "stderr",
     "output_type": "stream",
     "text": [
      "Fetching Trade Data:   0%|          | 0/10 [00:00<?, ?it/s]"
     ]
    },
    {
     "name": "stdout",
     "output_type": "stream",
     "text": [
      "Failed to fetch data for 2015: 404\n"
     ]
    },
    {
     "name": "stderr",
     "output_type": "stream",
     "text": [
      "Fetching Trade Data:  10%|█         | 1/10 [00:01<00:11,  1.24s/it]"
     ]
    },
    {
     "name": "stdout",
     "output_type": "stream",
     "text": [
      "Failed to fetch data for 2016: 404\n"
     ]
    },
    {
     "name": "stderr",
     "output_type": "stream",
     "text": [
      "Fetching Trade Data:  20%|██        | 2/10 [00:02<00:09,  1.21s/it]"
     ]
    },
    {
     "name": "stdout",
     "output_type": "stream",
     "text": [
      "Failed to fetch data for 2017: 404\n"
     ]
    },
    {
     "name": "stderr",
     "output_type": "stream",
     "text": [
      "Fetching Trade Data:  30%|███       | 3/10 [00:03<00:08,  1.21s/it]"
     ]
    },
    {
     "name": "stdout",
     "output_type": "stream",
     "text": [
      "Failed to fetch data for 2018: 404\n"
     ]
    },
    {
     "name": "stderr",
     "output_type": "stream",
     "text": [
      "Fetching Trade Data:  40%|████      | 4/10 [00:04<00:07,  1.19s/it]"
     ]
    },
    {
     "name": "stdout",
     "output_type": "stream",
     "text": [
      "Failed to fetch data for 2019: 404\n"
     ]
    },
    {
     "name": "stderr",
     "output_type": "stream",
     "text": [
      "Fetching Trade Data:  50%|█████     | 5/10 [00:06<00:06,  1.21s/it]"
     ]
    },
    {
     "name": "stdout",
     "output_type": "stream",
     "text": [
      "Failed to fetch data for 2020: 404\n"
     ]
    },
    {
     "name": "stderr",
     "output_type": "stream",
     "text": [
      "Fetching Trade Data:  60%|██████    | 6/10 [00:07<00:04,  1.19s/it]"
     ]
    },
    {
     "name": "stdout",
     "output_type": "stream",
     "text": [
      "Failed to fetch data for 2021: 404\n"
     ]
    },
    {
     "name": "stderr",
     "output_type": "stream",
     "text": [
      "Fetching Trade Data:  70%|███████   | 7/10 [00:08<00:03,  1.23s/it]"
     ]
    },
    {
     "name": "stdout",
     "output_type": "stream",
     "text": [
      "Failed to fetch data for 2022: 404\n"
     ]
    },
    {
     "name": "stderr",
     "output_type": "stream",
     "text": [
      "Fetching Trade Data:  80%|████████  | 8/10 [00:09<00:02,  1.21s/it]"
     ]
    },
    {
     "name": "stdout",
     "output_type": "stream",
     "text": [
      "Failed to fetch data for 2023: 404\n"
     ]
    },
    {
     "name": "stderr",
     "output_type": "stream",
     "text": [
      "Fetching Trade Data:  90%|█████████ | 9/10 [00:10<00:01,  1.20s/it]"
     ]
    },
    {
     "name": "stdout",
     "output_type": "stream",
     "text": [
      "Failed to fetch data for 2024: 404\n"
     ]
    },
    {
     "name": "stderr",
     "output_type": "stream",
     "text": [
      "Fetching Trade Data: 100%|██████████| 10/10 [00:12<00:00,  1.20s/it]\n"
     ]
    }
   ],
   "source": [
    "\n",
    "# Fetch data from 2015 to 2024 with progress bar\n",
    "all_trade_data = []\n",
    "\n",
    "for year in tqdm(range(2015, 2025), desc=\"Fetching Trade Data\"):\n",
    "    data = fetch_comtrade_data(year)\n",
    "    if data:\n",
    "        all_trade_data.extend(data.get('data', []))  # Adjust this based on API response structure\n",
    "    time.sleep(1)  # Delay to prevent hitting API rate limits\n"
   ]
  },
  {
   "cell_type": "code",
   "execution_count": 4,
   "metadata": {},
   "outputs": [
    {
     "name": "stdout",
     "output_type": "stream",
     "text": [
      "Data fetching complete. Total records: 0\n"
     ]
    }
   ],
   "source": [
    "\n",
    "# Save the data to a JSON file\n",
    "with open('comtrade_trade_data_2015_2024.json', 'w') as f:\n",
    "    json.dump(all_trade_data, f, indent=4)\n",
    "\n",
    "print(f\"Data fetching complete. Total records: {len(all_trade_data)}\")"
   ]
  },
  {
   "cell_type": "code",
   "execution_count": null,
   "metadata": {},
   "outputs": [],
   "source": []
  },
  {
   "cell_type": "code",
   "execution_count": null,
   "metadata": {},
   "outputs": [],
   "source": []
  }
 ],
 "metadata": {
  "kernelspec": {
   "display_name": "Python 3",
   "language": "python",
   "name": "python3"
  },
  "language_info": {
   "codemirror_mode": {
    "name": "ipython",
    "version": 3
   },
   "file_extension": ".py",
   "mimetype": "text/x-python",
   "name": "python",
   "nbconvert_exporter": "python",
   "pygments_lexer": "ipython3",
   "version": "3.10.12"
  }
 },
 "nbformat": 4,
 "nbformat_minor": 2
}
